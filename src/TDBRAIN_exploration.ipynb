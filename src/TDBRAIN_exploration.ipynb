{
 "cells": [
  {
   "cell_type": "code",
   "execution_count": 3,
   "metadata": {},
   "outputs": [],
   "source": [
    "import os\n",
    "\n",
    "for root, dirs, files in os.walk(\"data/TDBRAIN/preprocessed\"):\n",
    "    for file in files:\n",
    "        if file.endswith(\".fif\"):\n",
    "            print(os.path.join(root, file))\n"
   ]
  }
 ],
 "metadata": {
  "kernelspec": {
   "display_name": "xaiguiformer-mlreproducibility-goWHwFNr-py3.13",
   "language": "python",
   "name": "python3"
  },
  "language_info": {
   "codemirror_mode": {
    "name": "ipython",
    "version": 3
   },
   "file_extension": ".py",
   "mimetype": "text/x-python",
   "name": "python",
   "nbconvert_exporter": "python",
   "pygments_lexer": "ipython3",
   "version": "3.13.3"
  }
 },
 "nbformat": 4,
 "nbformat_minor": 2
}
